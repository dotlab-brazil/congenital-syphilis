{
 "cells": [
  {
   "cell_type": "markdown",
   "metadata": {},
   "source": [
    "# Data pre-processing"
   ]
  },
  {
   "cell_type": "markdown",
   "metadata": {},
   "source": [
    "Loading env variables:"
   ]
  },
  {
   "cell_type": "code",
   "execution_count": null,
   "metadata": {},
   "outputs": [],
   "source": [
    "import os\n",
    "import sys\n",
    "from dotenv import load_dotenv\n",
    "\n",
    "load_dotenv(override=True)\n",
    "print('ENV variables loaded successfully!')\n",
    "\n",
    "module_path = os.path.abspath(os.path.join('..'))\n",
    "if module_path not in sys.path:\n",
    "    sys.path.append(module_path)"
   ]
  },
  {
   "cell_type": "markdown",
   "metadata": {},
   "source": [
    "Loading unified dataset:"
   ]
  },
  {
   "cell_type": "code",
   "execution_count": null,
   "metadata": {},
   "outputs": [],
   "source": [
    "import pandas as pd\n",
    "import numpy as np\n",
    "import matplotlib.pyplot as plt\n",
    "\n",
    "from lib.env_var_keys import EnvVarKeys\n",
    "from lib.dataframe_helper import vdrl_count\n",
    "\n",
    "unified_dataset_path = os.getenv(EnvVarKeys.UNIFIED_DATASET_PATH_KEY.value)\n",
    "df_unified = pd.read_csv(unified_dataset_path, sep=',', low_memory=False)\n",
    "\n",
    "print(f'Unified dataset shape: {df_unified.shape}')\n",
    "vdrl_count(df_unified, 'df_unified')"
   ]
  },
  {
   "cell_type": "markdown",
   "metadata": {},
   "source": [
    "## Removing and renaming columns/features manually:"
   ]
  },
  {
   "cell_type": "code",
   "execution_count": null,
   "metadata": {},
   "outputs": [],
   "source": [
    "columns_to_keep = [\n",
    "  'mc_cri_vdrl', # mc_cri_crianca\n",
    "  'mc_get_alcool', # mc_get_gestacao\n",
    "  'mc_get_fator_rh', # mc_get_gestacao\n",
    "  'mc_get_fumo', # mc_get_gestacao\n",
    "  'mc_get_gravidez_planejada', # mc_get_gestacao\n",
    "  'mc_get_grupo_sanguineo', # mc_get_gestacao\n",
    "  'mc_get_risco_gestacional', # mc_get_gestacao\n",
    "  'mc_get_vacina_anti_tetanica', # mc_get_gestacao\n",
    "  'mc_get_dt_incl', # mc_get_gestacao (it'll used to calculate 'idade')\n",
    "  'mc_mul_chefe_familia', # mc_mul_mulher\n",
    "  'mc_mul_data_nascimento', # mc_mul_mulher (it'll used to calculate 'idade')\n",
    "  'mc_mul_est_civil', # mc_mul_mulher\n",
    "  'mc_mul_nivel_inseguranca', # mc_mul_mulher\n",
    "  'mc_mul_qtd_aborto', # mc_mul_mulher\n",
    "  'mc_mul_qtd_filhos_vivos', # mc_mul_mulher\n",
    "  'mc_mul_qtd_gest', # mc_mul_mulher\n",
    "  'mc_mul_rec_inf_plan_fam', # mc_mul_mulher\n",
    "  'mc_mul_tipo_const_casa', # mc_mul_mulher\n",
    "  'mc_mul_renda_familiar', # mc_mul_mulher\n",
    "  'mc_dae_escolaridade', # mc_dae_dado_evolutivo\n",
    "  'mc_dae_mrd_lgd_red_esg', # mc_dae_dado_evolutivo\n",
    "  'mc_dae_numero_res_domic', # mc_dae_dado_evolutivo\n",
    "  'mc_dae_possui_arv_frut', # mc_dae_dado_evolutivo\n",
    "  'mc_dae_possui_horta', # mc_dae_dado_evolutivo\n",
    "  'mc_dae_rfa', # mc_dae_dado_evolutivo\n",
    "  'mc_dae_sit_moradia', # mc_dae_dado_evolutivo\n",
    "  'mc_dae_trat_agua_uso', # mc_dae_dado_evolutivo\n",
    "]\n",
    "\n",
    "df_unified = df_unified[columns_to_keep]\n",
    "\n",
    "print(f'Unified dataframe only with columns selected manually: {df_unified.shape}')"
   ]
  },
  {
   "cell_type": "markdown",
   "metadata": {},
   "source": [
    "Keep only VDRL positive and negative:"
   ]
  },
  {
   "cell_type": "code",
   "execution_count": null,
   "metadata": {},
   "outputs": [],
   "source": [
    "# Only using VDRL positive and negative data\n",
    "df_unified = df_unified[df_unified['mc_cri_vdrl'].notna()]\n",
    "print(f'Shape after removing rows with missing VDRL: {df_unified.shape}')"
   ]
  },
  {
   "cell_type": "markdown",
   "metadata": {},
   "source": [
    "Removing outliers:"
   ]
  },
  {
   "cell_type": "code",
   "execution_count": null,
   "metadata": {},
   "outputs": [],
   "source": [
    "# Removendo outliers da data de nascimento\n",
    "MIN_YEAR = 1960\n",
    "MAX_YEAR = 2020\n",
    "df_unified['ano_nascimento'] = df_unified.apply(\n",
    "  lambda row: None if row['mc_mul_data_nascimento'] is None else pd.to_datetime(row['mc_mul_data_nascimento'], errors='coerce').year, axis=1\n",
    ")\n",
    "df_unified = df_unified[(df_unified['ano_nascimento'].between(MIN_YEAR, MAX_YEAR)) | (df_unified['ano_nascimento'].isna())]\n",
    "df_unified = df_unified.drop(columns=['ano_nascimento'])\n",
    "print(f\"Shape after removing outliers of 'mc_mul_data_nascimento': {df_unified.shape}\")\n",
    "\n",
    "# Valor máximo para a renda familiar\n",
    "MAX_DAE_RFA = 20_000\n",
    "df_unified = df_unified[(df_unified['mc_dae_rfa'] <= MAX_DAE_RFA) | (df_unified['mc_dae_rfa'].isna())]\n",
    "print(f\"Shape after removing outliers of 'mc_dae_rfa': {df_unified.shape}\")\n",
    "\n",
    "MAX_NUMERO_RES_DOMIC = 20\n",
    "df_unified = df_unified[(df_unified['mc_dae_numero_res_domic'] <= MAX_NUMERO_RES_DOMIC) | (df_unified['mc_dae_numero_res_domic'].isna())]\n",
    "print(f\"Shape after removing outliers of 'mc_dae_numero_res_domic': {df_unified.shape}\")\n",
    "\n",
    "vdrl_count(df_unified, 'df_unified')"
   ]
  },
  {
   "cell_type": "markdown",
   "metadata": {},
   "source": [
    "Creating `idade` column and removing `mc_mul_data_nascimento` and `mc_get_dt_incl`:"
   ]
  },
  {
   "cell_type": "code",
   "execution_count": null,
   "metadata": {},
   "outputs": [],
   "source": [
    "df_unified['idade'] = df_unified.apply(\n",
    "    lambda row: None if row['mc_mul_data_nascimento'] is None else (pd.to_datetime(row['mc_get_dt_incl']).year - pd.to_datetime(row['mc_mul_data_nascimento'], errors='coerce').year), axis=1\n",
    ")\n",
    "\n",
    "# Remove 'mc_mul_data_nascimento' column\n",
    "df_unified = df_unified.drop(columns=['mc_mul_data_nascimento', 'mc_get_dt_incl'], axis=1)\n",
    "\n",
    "print(f'Shape: {df_unified.shape}')"
   ]
  },
  {
   "cell_type": "markdown",
   "metadata": {},
   "source": [
    "Removing rows with `mc_mul_renda_familiar` empty (11 rows):"
   ]
  },
  {
   "cell_type": "code",
   "execution_count": null,
   "metadata": {},
   "outputs": [],
   "source": [
    "df_unified = df_unified.dropna(subset=['mc_mul_renda_familiar'])\n",
    "print(f'Shape: {df_unified.shape}')\n",
    "\n",
    "vdrl_count(df_unified, 'df_unified')"
   ]
  },
  {
   "cell_type": "markdown",
   "metadata": {},
   "source": [
    "## Count empty columns:"
   ]
  },
  {
   "cell_type": "markdown",
   "metadata": {},
   "source": [
    "Creating a new column (`empty_count`) to count the total of empty columns in each row and selecting all rows with `mc_cri_vdrl == 0` (**VDRL True**), rows with `mc_cri_vdrl == 1 AND empt_count == 0` and rows with `mc_cri_vdrl == 1 AND empty_count == 1` until reaching the **VDRL True** rows count:"
   ]
  },
  {
   "cell_type": "code",
   "execution_count": null,
   "metadata": {},
   "outputs": [],
   "source": [
    "df_unified['empty_count'] = df_unified.apply(\n",
    "    lambda row: sum(row.isna()), axis=1)\n",
    "\n",
    "df_unified['empty_columns'] = df_unified.apply(lambda row: ' | '.join(row[row.isna()].to_dict().keys()), axis=1)\n",
    "\n",
    "df_vdrl_empty_count = df_unified[[\n",
    "    'empty_count', 'mc_cri_vdrl']].value_counts().reset_index(name='counts')\n",
    "df_vdrl_empty_count['cri_vdrl_bool'] = df_vdrl_empty_count['mc_cri_vdrl'].apply(\n",
    "    lambda x: True if x == 0 else False)\n",
    "df_vdrl_empty_count = df_vdrl_empty_count[['mc_cri_vdrl', 'cri_vdrl_bool', 'empty_count', 'counts']].sort_values(\n",
    "    by=['cri_vdrl_bool', 'counts'], ascending=[True, False]).reset_index(drop=True)\n",
    "\n",
    "df_vdrl_empty_count.style.apply(lambda x: ['background: #9c3d44' if (x.empty_count == 0 or x.cri_vdrl_bool == True) else '' for i in x], axis=1).apply(\n",
    "    lambda x: ['background: green' if (x.empty_count == 1 and x.cri_vdrl_bool == False) else '' for i in x], axis=1)\n",
    "\n"
   ]
  },
  {
   "cell_type": "markdown",
   "metadata": {},
   "source": [
    "Renaming columns:"
   ]
  },
  {
   "cell_type": "code",
   "execution_count": null,
   "metadata": {},
   "outputs": [],
   "source": [
    "df_unified = df_unified.rename(columns={'mc_cri_vdrl': 'VDRL_RESULT',\n",
    "'mc_get_alcool': 'CONS_ALCOHOL',\n",
    "'mc_get_fator_rh': 'RH_FACTOR',\n",
    "'mc_get_fumo': 'SMOKER',\n",
    "'mc_get_gravidez_planejada': 'PLAN_PREGNANCY',\n",
    "'mc_get_grupo_sanguineo': 'BLOOD_GROUP',\n",
    "'mc_get_risco_gestacional': 'HAS_PREG_RISK',\n",
    "'mc_get_vacina_anti_tetanica': 'TET_VACCINE',\n",
    "'mc_mul_chefe_familia': 'IS_HEAD_FAMILY',\n",
    "'mc_mul_est_civil': 'MARITAL_STATUS',\n",
    "'mc_mul_nivel_inseguranca': 'FOOD_INSECURITY',\n",
    "'mc_mul_qtd_aborto': 'NUM_ABORTIONS',\n",
    "'mc_mul_qtd_filhos_vivos': 'NUM_LIV_CHILDREN',\n",
    "'mc_mul_qtd_gest': 'NUM_PREGNANCIES',\n",
    "'mc_mul_rec_inf_plan_fam': 'FAM_PLANNING',\n",
    "'mc_mul_tipo_const_casa': 'TYPE_HOUSE',\n",
    "'mc_mul_renda_familiar': 'HAS_FAM_INCOME',\n",
    "'mc_dae_escolaridade': 'LEVEL_SCHOOLING',\n",
    "'mc_dae_mrd_lgd_red_esg': 'CONN_SEWER_NET',\n",
    "'mc_dae_numero_res_domic': 'NUM_RES_HOUSEHOLD',\n",
    "'mc_dae_possui_arv_frut': 'HAS_FRU_TREE',\n",
    "'mc_dae_possui_horta': 'HAS_VEG_GARDEN',\n",
    "'mc_dae_rfa': 'FAM_INCOME',\n",
    "'mc_dae_sit_moradia': 'HOUSING_STATUS',\n",
    "'mc_dae_trat_agua_uso': 'WATER_TREATMENT',\n",
    "'idade': 'AGE'})"
   ]
  },
  {
   "cell_type": "markdown",
   "metadata": {},
   "source": [
    "Saving pre-processed data set, with columns `emtpy_count` and `empty_columns`:"
   ]
  },
  {
   "cell_type": "code",
   "execution_count": null,
   "metadata": {},
   "outputs": [],
   "source": [
    "pre_processed_dataset_path = os.getenv(EnvVarKeys.PRE_PROCESSED_DATASET_PATH_KEY.value)\n",
    "df_unified.to_csv(pre_processed_dataset_path, sep=',',  index=False)\n",
    "\n",
    "print(f'Pre-processed dataset saved to: {pre_processed_dataset_path}')"
   ]
  }
 ],
 "metadata": {
  "interpreter": {
   "hash": "416ab2233af069778f21dca19dabf29eb63b81be59c1f4646b2eca8f372fbc65"
  },
  "kernelspec": {
   "display_name": "Python 3.8.13 ('syphilis-env')",
   "language": "python",
   "name": "python3"
  },
  "language_info": {
   "codemirror_mode": {
    "name": "ipython",
    "version": 3
   },
   "file_extension": ".py",
   "mimetype": "text/x-python",
   "name": "python",
   "nbconvert_exporter": "python",
   "pygments_lexer": "ipython3",
   "version": "3.8.13"
  },
  "orig_nbformat": 4
 },
 "nbformat": 4,
 "nbformat_minor": 2
}
