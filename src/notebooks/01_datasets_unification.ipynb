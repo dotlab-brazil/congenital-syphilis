{
 "cells": [
  {
   "cell_type": "markdown",
   "metadata": {},
   "source": [
    "# Datasets unification\n",
    "\n",
    "Unification of all datasets into one."
   ]
  },
  {
   "cell_type": "markdown",
   "metadata": {},
   "source": [
    "Loading env variables:"
   ]
  },
  {
   "cell_type": "code",
   "execution_count": null,
   "metadata": {},
   "outputs": [],
   "source": [
    "import os\n",
    "import sys\n",
    "from dotenv import load_dotenv\n",
    "\n",
    "load_dotenv(override=True)\n",
    "print('ENV variables loaded successfully!')\n",
    "\n",
    "module_path = os.path.abspath(os.path.join('..'))\n",
    "if module_path not in sys.path:\n",
    "    sys.path.append(module_path)"
   ]
  },
  {
   "cell_type": "markdown",
   "metadata": {},
   "source": [
    "Loading datasets files:"
   ]
  },
  {
   "cell_type": "code",
   "execution_count": null,
   "metadata": {},
   "outputs": [],
   "source": [
    "import pandas as pd\n",
    "import numpy as np\n",
    "import matplotlib.pyplot as plt\n",
    "\n",
    "from lib.env_var_keys import EnvVarKeys\n",
    "\n",
    "# Get the datasets files paths\n",
    "crianca_file_path = os.getenv(EnvVarKeys.CRIANCA_DATASET_ORIGINAL_FILE_PATH_KEY.value)\n",
    "achado_anormal_file_path = os.getenv(EnvVarKeys.ACHADO_ANORMAL_DATASET_ORIGINAL_FILE_PATH_KEY.value)\n",
    "tipo_morbidade_file_path = os.getenv(EnvVarKeys.TIPO_MORBIDADE_DATASET_ORIGINAL_FILE_PATH_KEY.value)\n",
    "parto_file_path = os.getenv(EnvVarKeys.PARTO_DATASET_ORIGINAL_FILE_PATH_KEY.value)\n",
    "gestacao_file_path = os.getenv(EnvVarKeys.GESTACAO_DATASET_ORIGINAL_FILE_PATH_KEY.value)\n",
    "mulher_file_path = os.getenv(EnvVarKeys.MULHER_DATASET_ORIGINAL_FILE_PATH_KEY.value)\n",
    "dado_evolutivo_file_path = os.getenv(EnvVarKeys.DADO_EVOLUTIVO_DATASET_ORIGINAL_FILE_PATH_KEY.value)\n",
    "\n",
    "\n",
    "print(f\"\"\"Loading original datasets from: \n",
    "  -> crianca_file_path={crianca_file_path}\n",
    "  -> achado_anormal_file_path={achado_anormal_file_path}\n",
    "  -> tipo_morbidade_file_path={tipo_morbidade_file_path}\n",
    "  -> parto_file_path={parto_file_path}\n",
    "  -> gestacao_file_path={gestacao_file_path}\n",
    "  -> mulher_file_path={mulher_file_path}\n",
    "  -> dado_evolutivo_file_path={dado_evolutivo_file_path}\"\"\")\n",
    "\n",
    "# Loading CSV files into dataframes\n",
    "df_crianca = pd.read_csv(crianca_file_path, sep=',')\n",
    "df_achado_anormal = pd.read_csv(achado_anormal_file_path, sep=',')\n",
    "df_tipo_morbidade = pd.read_csv(tipo_morbidade_file_path, sep=',')\n",
    "df_parto = pd.read_csv(parto_file_path, sep=',')\n",
    "df_gestacao = pd.read_csv(gestacao_file_path, sep=',')\n",
    "df_mulher = pd.read_csv(mulher_file_path, sep=',')\n",
    "df_dado_evolutivo = pd.read_csv(dado_evolutivo_file_path, sep=',')\n",
    "\n",
    "\n",
    "print(f\"\"\"Original datasets shapes:\n",
    "  -> df_crianca.shape={df_crianca.shape}\n",
    "  -> df_achado_anormal.shape={df_achado_anormal.shape}\n",
    "  -> df_tipo_morbidade.shape={df_tipo_morbidade.shape}\n",
    "  -> df_parto.shape={df_parto.shape}\n",
    "  -> df_gestacao.shape={df_gestacao.shape}\n",
    "  -> df_mulher.shape={df_mulher.shape}\n",
    "  -> df_dado_evolutivo.shape={df_dado_evolutivo.shape}\"\"\")"
   ]
  },
  {
   "cell_type": "markdown",
   "metadata": {},
   "source": [
    "## Datasets unification"
   ]
  },
  {
   "cell_type": "markdown",
   "metadata": {},
   "source": [
    "Removing duplicated rows:"
   ]
  },
  {
   "cell_type": "code",
   "execution_count": null,
   "metadata": {},
   "outputs": [],
   "source": [
    "from lib.dataframe_helper import remove_duplicated_rows\n",
    "\n",
    "df_crianca = remove_duplicated_rows(df_crianca, 'df_crianca')\n",
    "df_achado_anormal = remove_duplicated_rows(df_achado_anormal, 'df_achado_anormal')\n",
    "df_tipo_morbidade = remove_duplicated_rows(df_tipo_morbidade, 'df_tipo_morbidade')\n",
    "df_parto = remove_duplicated_rows(df_parto, 'df_parto')\n",
    "df_gestacao = remove_duplicated_rows(df_gestacao, 'df_gestacao')\n",
    "df_mulher = remove_duplicated_rows(df_mulher, 'df_mulher')\n",
    "df_dado_evolutivo = remove_duplicated_rows(df_dado_evolutivo, 'df_dado_evolutivo')"
   ]
  },
  {
   "cell_type": "markdown",
   "metadata": {},
   "source": [
    "Counting of `mc_cri_vdrl` column from `df_crianca_v1` dataframe:"
   ]
  },
  {
   "cell_type": "code",
   "execution_count": null,
   "metadata": {},
   "outputs": [],
   "source": [
    "from lib.dataframe_helper import vdrl_count\n",
    "\n",
    "vdrl_count(df_crianca, 'df_crianca')"
   ]
  },
  {
   "cell_type": "markdown",
   "metadata": {},
   "source": [
    "Removendo as linhas desativadas de `df_crianca` (`df_crianca_v1['ativo'] != False`):"
   ]
  },
  {
   "cell_type": "code",
   "execution_count": null,
   "metadata": {},
   "outputs": [],
   "source": [
    "vdrl_count(df_crianca)\n",
    "\n",
    "deactivate_count = df_crianca[df_crianca['ativo'] == False].shape[0]\n",
    "print(f'Removing {deactivate_count} deactivated rows.')\n",
    "\n",
    "df_crianca = df_crianca[df_crianca['ativo'] != False] \n",
    "vdrl_count(df_crianca)"
   ]
  },
  {
   "cell_type": "markdown",
   "metadata": {},
   "source": [
    "Converting negative VDRL test result (`mc_cri_vdrl = 1`) and empty VDRL test result to positive VDRL test result (`mc_cri_vdrl = 0`)  if there is a link to the abnormal finding **428** (`O98.1 Sifilis complic gravidez parto e puerperio`):"
   ]
  },
  {
   "cell_type": "code",
   "execution_count": null,
   "metadata": {},
   "outputs": [],
   "source": [
    "achado_anormal_id = 428\n",
    "\n",
    "df_achado_anormal = df_achado_anormal[df_achado_anormal['mc_aac_id'] == achado_anormal_id]\n",
    "\n",
    "df_crianca.loc[df_crianca['mc_pes_id'].isin(df_achado_anormal['mc_cri_id'].to_list()), 'mc_cri_vdrl'] = 0\n",
    "\n",
    "vdrl_count(df_crianca, 'df_crianca')"
   ]
  },
  {
   "cell_type": "markdown",
   "metadata": {},
   "source": [
    "Converting negative VDRL test result (`mc_cri_vdrl = 1`) and empty VDRL test result to positive VDRL test result (`mc_cri_vdrl = 0`) if there is a link to the morbidities:\n",
    "- 227\n",
    "- 228\n",
    "- 229\n",
    "- 231\n",
    "- 232\n",
    "- 233\n",
    "- 234\n",
    "- 235\n",
    "- 236\n",
    "- 237\n",
    "- 238\n",
    "- 239\n",
    "- 240\n",
    "- 241\n",
    "- 242\n",
    "- 243\n",
    "- 244\n",
    "- 245\n",
    "- 246\n",
    "- 247\n",
    "- 248\n",
    "- 249\n",
    "- 250\n",
    "- 251\n",
    "- 279"
   ]
  },
  {
   "cell_type": "code",
   "execution_count": null,
   "metadata": {},
   "outputs": [],
   "source": [
    "tipo_morbidade_ids = [227, 228, 229, 231, 232, 233, 234, 235, 236, 237, 238, 239, 240, 241, 242, 243, 244, 245, 246, 247, 248, 249, 250, 251, 279]\n",
    "df_tipo_morbidade = df_tipo_morbidade[df_tipo_morbidade['mc_tmo_id'].isin(tipo_morbidade_ids)]['mc_cri_id']\n",
    "df_tipo_morbidade = remove_duplicated_rows(df_tipo_morbidade, 'df_tipo_morbidade')\n",
    "\n",
    "df_crianca.loc[df_crianca['mc_pes_id'].isin(df_tipo_morbidade.to_list()), 'mc_cri_vdrl'] = 0\n",
    "\n",
    "vdrl_count(df_crianca, 'df_crianca')"
   ]
  },
  {
   "cell_type": "markdown",
   "metadata": {},
   "source": [
    "Performing the INNER JOIN operation:"
   ]
  },
  {
   "cell_type": "code",
   "execution_count": null,
   "metadata": {},
   "outputs": [],
   "source": [
    "from lib.dataframe_helper import inner_join\n",
    "\n",
    "df_join_crianca_parto = inner_join(df_crianca, df_parto, 'mc_par_id')\n",
    "df_join_crianca_parto_gestacao = inner_join(df_join_crianca_parto, df_gestacao, 'mc_get_id')\n",
    "df_join_crianca_parto_gestacao_mulher = inner_join(df_join_crianca_parto_gestacao, df_mulher, multi_on_col=('mc_mul_id', 'mc_pes_id'))\n",
    "df_join_all = inner_join(df_join_crianca_parto_gestacao_mulher, df_dado_evolutivo,  multi_on_col=('mc_mul_dado_evolutivo_atual_id', 'mc_dae_id'))\n",
    "\n",
    "print(f'Unified dataset shape: {df_join_all.shape}')\n",
    "\n",
    "vdrl_count(df_join_all)"
   ]
  },
  {
   "cell_type": "markdown",
   "metadata": {},
   "source": [
    "Saving unified dataset into a CSV file:"
   ]
  },
  {
   "cell_type": "code",
   "execution_count": null,
   "metadata": {},
   "outputs": [],
   "source": [
    "from lib.env_var_keys import EnvVarKeys\n",
    "\n",
    "unified_dataset_path = os.getenv(EnvVarKeys.UNIFIED_DATASET_PATH_KEY.value)\n",
    "df_join_all.to_csv(unified_dataset_path, sep=',', index=False)\n",
    "\n",
    "print(f'Unified dataset saved to: {unified_dataset_path}')"
   ]
  },
  {
   "cell_type": "code",
   "execution_count": null,
   "metadata": {},
   "outputs": [],
   "source": [
    "vdrl_count(df_join_all, 'df_join_all')"
   ]
  }
 ],
 "metadata": {
  "interpreter": {
   "hash": "416ab2233af069778f21dca19dabf29eb63b81be59c1f4646b2eca8f372fbc65"
  },
  "kernelspec": {
   "display_name": "Python 3.8.13 ('syphilis-env')",
   "language": "python",
   "name": "python3"
  },
  "language_info": {
   "codemirror_mode": {
    "name": "ipython",
    "version": 3
   },
   "file_extension": ".py",
   "mimetype": "text/x-python",
   "name": "python",
   "nbconvert_exporter": "python",
   "pygments_lexer": "ipython3",
   "version": "3.8.13"
  },
  "orig_nbformat": 4
 },
 "nbformat": 4,
 "nbformat_minor": 2
}
