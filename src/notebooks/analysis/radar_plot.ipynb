{
 "cells": [
  {
   "cell_type": "markdown",
   "metadata": {},
   "source": [
    "# ROC AUC Calculator - SFA"
   ]
  },
  {
   "cell_type": "markdown",
   "metadata": {},
   "source": [
    "Plot dos finalistas:"
   ]
  },
  {
   "cell_type": "code",
   "execution_count": 1,
   "metadata": {},
   "outputs": [
    {
     "data": {
      "text/plain": [
       "'temp-plot.html'"
      ]
     },
     "execution_count": 1,
     "metadata": {},
     "output_type": "execute_result"
    }
   ],
   "source": [
    "%matplotlib inline\n",
    "import plotly.graph_objects as go\n",
    "import plotly.offline as pyo\n",
    "\n",
    "# categories = ['F1-Score', 'Accuracy', 'Precision', 'Sensitivity', 'Specificity']\n",
    "categories = ['F1-Score', 'Acurácia', 'Precisão', 'Sensibilidade', 'Especificidade']\n",
    "categories = [*categories, categories[0]]\n",
    "\n",
    "svm_sfa = [63.04, 61.03, 60.11, 66.27, 55.76]\n",
    "svm_sfa = [*svm_sfa, svm_sfa[0]]\n",
    "ada_expert = [63.51, 60.42, 59.07, 68.67, 52.12]\n",
    "ada_expert = [*ada_expert, ada_expert[0]]\n",
    "\n",
    "scale_force = [90, 90, 90, 90, 90]\n",
    "scale_force = [*scale_force, scale_force[0]]\n",
    "\n",
    "fig = go.Figure(\n",
    "  data=[\n",
    "    go.Scatterpolar(r=svm_sfa, theta=categories, name='SVM-BDS-SFA', line={'dash': 'dash'}),\n",
    "    go.Scatterpolar(r=ada_expert, theta=categories, name='AdaBoost-BODS-Expert', line={'dash': 'solid'}),\n",
    "    go.Scatterpolar(r=scale_force, theta=categories, name='', line={'dash': 'solid'}, opacity=0)\n",
    "  ],\n",
    "  layout=go.Layout(\n",
    "    polar={'radialaxis': {'visible': True}},\n",
    "    showlegend=True,\n",
    "    width=700,\n",
    "    height=500\n",
    "  )\n",
    ")\n",
    "\n",
    "fig.update_yaxes(range=[0, 100])\n",
    "pyo.plot(fig)"
   ]
  },
  {
   "cell_type": "markdown",
   "metadata": {},
   "source": [
    "Plot dos melhores do SFA:"
   ]
  },
  {
   "cell_type": "code",
   "execution_count": 2,
   "metadata": {},
   "outputs": [
    {
     "data": {
      "text/plain": [
       "'temp-plot.html'"
      ]
     },
     "execution_count": 2,
     "metadata": {},
     "output_type": "execute_result"
    }
   ],
   "source": [
    "import plotly.graph_objects as go\n",
    "import plotly.offline as pyo\n",
    "\n",
    "# categories = ['F1-Score', 'Accuracy', 'Precision', 'Sensitivity', 'Specificity']\n",
    "categories = ['F1-Score', 'Acurácia', 'Precisão', 'Sensibilidade', 'Especificidade']\n",
    "categories = [*categories, categories[0]]\n",
    "\n",
    "ids_rf = [34.85, 63.09,\t47.42, 27.54, 82.94]\n",
    "ids_rf = [*ids_rf, ids_rf[0]]\n",
    "bds_svm = [63.04, 61.03, 60.11, 66.27, 55.76]\n",
    "bds_svm = [*bds_svm, bds_svm[0]]\n",
    "iods_rf = [35.52, 64.16, 50.00, 27.54, 84.62]\n",
    "iods_rf = [*iods_rf, iods_rf[0]]\n",
    "bods_dt = [60.44, 56.50, 55.56, 66.27, 46.67]\n",
    "bods_dt = [*bods_dt, bods_dt[0]]\n",
    "iodds_xgb = [43.92, 64.38, 50.39, 38.92, 78.60]\n",
    "iodds_xgb = [*iodds_xgb, iodds_xgb[0]]\n",
    "bodds_svm = [59.08,\t59.82, 60.38,\t57.83, 61.82]\n",
    "bodds_svm = [*bodds_svm, bodds_svm[0]]\n",
    "\n",
    "scale_force = [90, 90, 90, 90, 90]\n",
    "scale_force = [*scale_force, scale_force[0]]\n",
    "\n",
    "fig = go.Figure(\n",
    "  data=[\n",
    "    go.Scatterpolar(r=ids_rf, theta=categories, name='IDS - Random Forest', line={'dash': 'solid'}),\n",
    "    go.Scatterpolar(r=bds_svm, theta=categories, name='BDS - SVM', line={'dash': 'dot'}),\n",
    "    go.Scatterpolar(r=iods_rf, theta=categories, name='IODS - Random Forest', line={'dash': 'dash'}),\n",
    "    go.Scatterpolar(r=bods_dt, theta=categories, name='BODS - Decision Tree', line={'dash': 'longdash'}),\n",
    "    go.Scatterpolar(r=iodds_xgb, theta=categories, name='IODDS - XGBoost', line={'dash': 'dashdot'}),\n",
    "    go.Scatterpolar(r=bodds_svm, theta=categories, name='BODDS - SVM', line={'dash': 'longdashdot'}),\n",
    "    go.Scatterpolar(r=scale_force, theta=categories, name='', line={'dash': 'solid'}, opacity=0)\n",
    "  ],\n",
    "  layout=go.Layout(\n",
    "    polar={'radialaxis': {'visible': True}},\n",
    "    showlegend=True,\n",
    "    width=700,\n",
    "    height=500\n",
    "  )\n",
    ")\n",
    "\n",
    "pyo.plot(fig)"
   ]
  },
  {
   "cell_type": "markdown",
   "metadata": {},
   "source": [
    "Plot dos melhores das especialistas:"
   ]
  },
  {
   "cell_type": "code",
   "execution_count": 3,
   "metadata": {},
   "outputs": [
    {
     "data": {
      "text/plain": [
       "'temp-plot.html'"
      ]
     },
     "execution_count": 3,
     "metadata": {},
     "output_type": "execute_result"
    }
   ],
   "source": [
    "import plotly.graph_objects as go\n",
    "import plotly.offline as pyo\n",
    "\n",
    "# categories = ['F1-Score', 'Accuracy', 'Precision', 'Sensitivity', 'Specificity']\n",
    "categories = ['F1-Score', 'Acurácia', 'Precisão', 'Sensibilidade', 'Especificidade']\n",
    "categories = [*categories, categories[0]]\n",
    "\n",
    "ids_rf = [43.83, 60.94, 45.22, 42.51, 71.24]\n",
    "ids_rf = [*ids_rf, ids_rf[0]]\n",
    "bds_knn = [62.37, 57.70, 56.31, 69.88, 45.45]\n",
    "bds_knn = [*bds_knn, bds_knn[0]]\n",
    "iods_dt = [44.84, 59.87, 44.19, 45.51, 67.89]\n",
    "iods_dt = [*iods_dt, iods_dt[0]]\n",
    "bods_ada = [63.51, 60.42, 59.07, 68.67, 52.12]\n",
    "bods_ada = [*bods_ada, bods_ada[0]]\n",
    "iodds_dt = [41.79, 58.15, 41.67, 41.92, 67.22]\n",
    "iodds_dt = [*iodds_dt, iodds_dt[0]]\n",
    "bodds_svm = [62.01, 58.91, 57.81, 66.87, 50.91]\n",
    "bodds_svm = [*bodds_svm, bodds_svm[0]]\n",
    "\n",
    "scale_force = [90, 90, 90, 90, 90]\n",
    "scale_force = [*scale_force, scale_force[0]]\n",
    "\n",
    "fig = go.Figure(\n",
    "  data=[\n",
    "    go.Scatterpolar(r=ids_rf, theta=categories, name='IDS - Random Forest', line={'dash': 'solid'}),\n",
    "    go.Scatterpolar(r=bds_knn, theta=categories, name='BDS - KNN', line={'dash': 'dot'}),\n",
    "    go.Scatterpolar(r=iods_dt, theta=categories, name='IODS - Decision Tree', line={'dash': 'dash'}),\n",
    "    go.Scatterpolar(r=bods_ada, theta=categories, name='BODS - AdaBoost', line={'dash': 'longdash'}),\n",
    "    go.Scatterpolar(r=iodds_dt, theta=categories, name='IODDS - Decision Tree', line={'dash': 'dashdot'}),\n",
    "    go.Scatterpolar(r=bodds_svm, theta=categories, name='BODDS - SVM', line={'dash': 'longdashdot'}),\n",
    "    go.Scatterpolar(r=scale_force, theta=categories, name='', line={'dash': 'solid'}, opacity=0)\n",
    "  ],\n",
    "  layout=go.Layout(\n",
    "    polar={'radialaxis': {'visible': True}},\n",
    "    showlegend=True,\n",
    "    width=700,\n",
    "    height=500\n",
    "  )\n",
    ")\n",
    "\n",
    "pyo.plot(fig)"
   ]
  }
 ],
 "metadata": {
  "kernelspec": {
   "display_name": "Python 3.8.13 ('syphilis-env')",
   "language": "python",
   "name": "python3"
  },
  "language_info": {
   "codemirror_mode": {
    "name": "ipython",
    "version": 3
   },
   "file_extension": ".py",
   "mimetype": "text/x-python",
   "name": "python",
   "nbconvert_exporter": "python",
   "pygments_lexer": "ipython3",
   "version": "3.8.13"
  },
  "orig_nbformat": 4,
  "vscode": {
   "interpreter": {
    "hash": "416ab2233af069778f21dca19dabf29eb63b81be59c1f4646b2eca8f372fbc65"
   }
  }
 },
 "nbformat": 4,
 "nbformat_minor": 2
}
